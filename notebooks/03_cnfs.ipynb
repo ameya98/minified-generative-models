{
 "cells": [
  {
   "cell_type": "code",
   "execution_count": 2,
   "metadata": {},
   "outputs": [],
   "source": [
    "from functools import partial\n",
    "\n",
    "import jax\n",
    "import jax.numpy as np\n",
    "import flax.linen as nn\n",
    "import optax\n",
    "import diffrax as dfx\n",
    "import math\n",
    "\n",
    "from sklearn import datasets, preprocessing\n",
    "\n",
    "import matplotlib.pyplot as plt\n",
    "from tqdm import trange"
   ]
  },
  {
   "attachments": {},
   "cell_type": "markdown",
   "metadata": {},
   "source": [
    "## The Dataset"
   ]
  },
  {
   "cell_type": "code",
   "execution_count": 150,
   "metadata": {},
   "outputs": [
    {
     "data": {
      "text/plain": [
       "(-2.0, 2.0)"
      ]
     },
     "execution_count": 150,
     "metadata": {},
     "output_type": "execute_result"
    },
    {
     "data": {
      "image/png": "[encoded data removed]",
      "text/plain": [
       "<Figure size 640x480 with 1 Axes>"
      ]
     },
     "metadata": {},
     "output_type": "display_data"
    }
   ],
   "source": [
    "n_samples = 10_000\n",
    "\n",
    "x, _ = datasets.make_moons(n_samples=n_samples, noise=.06)\n",
    "\n",
    "scaler = preprocessing.StandardScaler()\n",
    "x = scaler.fit_transform(x)\n",
    "\n",
    "plt.hist2d(x[:, 0], x[:, 1], bins=100)\n",
    "plt.xlim(-2 ,2)\n",
    "plt.ylim(-2, 2)"
   ]
  },
  {
   "attachments": {},
   "cell_type": "markdown",
   "metadata": {},
   "source": [
    "## The Model\n",
    "\n",
    "Based on https://docs.kidger.site/diffrax/examples/continuous_normalising_flow/."
   ]
  },
  {
   "cell_type": "code",
   "execution_count": 151,
   "metadata": {},
   "outputs": [],
   "source": [
    "class MLP(nn.Module):\n",
    "    \"\"\" A simple MLP in Flax.\n",
    "    \"\"\"\n",
    "    hidden_dim: int = 64\n",
    "    out_dim: int = 2\n",
    "    n_layers: int = 3\n",
    "\n",
    "    @nn.compact\n",
    "    def __call__(self, x):\n",
    "        for _ in range(self.n_layers):\n",
    "            x = nn.Dense(features=self.hidden_dim)(x)\n",
    "            x = nn.gelu(x)\n",
    "        x = nn.Dense(features=self.out_dim)(x)\n",
    "        return x"
   ]
  },
  {
   "cell_type": "code",
   "execution_count": 152,
   "metadata": {},
   "outputs": [],
   "source": [
    "key = jax.random.PRNGKey(0)\n",
    "t = np.ones((x.shape[0], 1))\n",
    "\n",
    "phi = MLP(hidden_dim=64, out_dim=2, n_layers=3)\n",
    "params = phi.init(key, np.concatenate([x, t], axis=1))"
   ]
  },
  {
   "cell_type": "code",
   "execution_count": 153,
   "metadata": {},
   "outputs": [],
   "source": [
    "def approx_logp_wrapper(t, y, args):\n",
    "    \"\"\" Approx. log-likelihood using Hutchinson's trace estimator.\n",
    "    \"\"\"\n",
    "    y, _ = y\n",
    "    eps, func = args\n",
    "    t = np.atleast_1d(t)\n",
    "    fn = lambda y: func(np.concatenate([y, t]))\n",
    "    f, vjp_fn = jax.vjp(fn, y)\n",
    "    (eps_dfdy,) = vjp_fn(eps)\n",
    "    logp = np.sum(eps_dfdy * eps)\n",
    "    return f, logp\n",
    "\n",
    "def exact_logp_wrapper(t, y, args):\n",
    "    y, _ = y\n",
    "    _, func = args\n",
    "    t = np.atleast_1d(t)\n",
    "    fn = lambda y: func(np.concatenate([y, t]))\n",
    "    f, vjp_fn = jax.vjp(fn, y)\n",
    "    (size,) = y.shape  # this implementation only works for 1D input\n",
    "    eye = np.eye(size)\n",
    "    (dfdy,) = jax.vmap(vjp_fn)(eye)\n",
    "    logp = np.trace(dfdy)\n",
    "    return f, logp\n",
    "\n",
    "def normal_log_likelihood(y):\n",
    "    return -0.5 * (y.size * math.log(2 * math.pi) + np.sum(y**2))"
   ]
  },
  {
   "cell_type": "code",
   "execution_count": 154,
   "metadata": {},
   "outputs": [
    {
     "data": {
      "text/plain": [
       "Array([-3.4923115, -3.4084585, -2.9101715, -3.7232306, -3.1586177,\n",
       "       -2.297448 , -2.2802036, -2.0213869, -3.1966317, -2.874566 ,\n",
       "       -2.1579404, -3.4940019, -3.5158792, -1.9150248, -3.2399337,\n",
       "       -1.9931278, -3.6583652, -2.4398217, -2.2152643, -2.8964372,\n",
       "       -2.8429918, -3.4411044, -3.0450585, -3.779557 , -2.0866928,\n",
       "       -2.1046798, -1.8928697, -3.1286263, -3.411132 , -3.699195 ,\n",
       "       -2.1369133, -1.943605 ], dtype=float32)"
      ]
     },
     "execution_count": 154,
     "metadata": {},
     "output_type": "execute_result"
    }
   ],
   "source": [
    "t0 = 0.0\n",
    "t1 = 1\n",
    "dt0 = 0.01\n",
    "\n",
    "\n",
    "# Runs backward-in-time to train the CNF\n",
    "\n",
    "@partial(jax.jit, static_argnums=(2,))\n",
    "def loss_fn(params, y, phi):\n",
    "    # term = dfx.ODETerm(approx_logp_wrapper)\n",
    "    term = dfx.ODETerm(exact_logp_wrapper)\n",
    "    solver = dfx.Tsit5()\n",
    "    eps = jax.random.normal(key, y.shape)\n",
    "    delta_log_likelihood = 0.0\n",
    "    y = (y, delta_log_likelihood)\n",
    "    func = lambda x: phi.apply(params, x)\n",
    "    sol = dfx.diffeqsolve(\n",
    "        term, solver, t1, t0, -dt0, y, (eps, func)\n",
    "    )\n",
    "    (y,), (delta_log_likelihood,) = sol.ys\n",
    "    return delta_log_likelihood + normal_log_likelihood(y)\n",
    "\n",
    "jax.vmap(loss_fn, in_axes=(None, 0, None))(params, x[:32], phi)"
   ]
  },
  {
   "cell_type": "code",
   "execution_count": 155,
   "metadata": {},
   "outputs": [],
   "source": [
    "opt = optax.adamw(learning_rate=1e-4, weight_decay=1e-4)\n",
    "opt_state = opt.init(params)\n",
    "\n",
    "def loss_fn_vmapped_summed(params, x_batch, phi):\n",
    "    log_like = jax.vmap(loss_fn, in_axes=(None, 0, None))(params, x_batch, phi)\n",
    "    return -log_like.mean()\n"
   ]
  },
  {
   "cell_type": "code",
   "execution_count": 161,
   "metadata": {},
   "outputs": [
    {
     "name": "stderr",
     "output_type": "stream",
     "text": [
      "100%|██████████| 1000/1000 [06:39<00:00,  2.50it/s, val=1.5538138]\n"
     ]
    }
   ],
   "source": [
    "n_steps = 1000\n",
    "n_batch = 32\n",
    "\n",
    "with trange(n_steps) as steps:\n",
    "    for step in steps:\n",
    "\n",
    "        # Draw a random batches from x\n",
    "        key, subkey = jax.random.split(key)\n",
    "        idx = jax.random.choice(key, x.shape[0], shape=(n_batch,))\n",
    "        \n",
    "        x_batch = x[idx]\n",
    "        \n",
    "        loss, grads = jax.value_and_grad(loss_fn_vmapped_summed)(params, x_batch, phi)\n",
    "        updates, opt_state = opt.update(grads, opt_state, params)\n",
    "\n",
    "        params = optax.apply_updates(params, updates)\n",
    "\n",
    "        steps.set_postfix(val=loss)"
   ]
  },
  {
   "cell_type": "code",
   "execution_count": 174,
   "metadata": {},
   "outputs": [
    {
     "data": {
      "text/plain": [
       "Array([ 1.1584525, -1.4417852], dtype=float32, weak_type=True)"
      ]
     },
     "execution_count": 174,
     "metadata": {},
     "output_type": "execute_result"
    }
   ],
   "source": [
    "def single_sample_fn(params, key, dim_data=2):\n",
    "    y = jax.random.normal(key, (dim_data,))\n",
    "    def func(t, x, args):\n",
    "        t = np.atleast_1d(t)\n",
    "        return phi.apply(params, np.concatenate([x, t]))\n",
    "    term = dfx.ODETerm(func)\n",
    "    solver = dfx.Heun()\n",
    "    sol = dfx.diffeqsolve(term, solver, t0, t1, dt0, y)\n",
    "    (y,) = sol.ys\n",
    "    return y\n",
    "\n",
    "single_sample_fn(params, key)"
   ]
  },
  {
   "cell_type": "code",
   "execution_count": 175,
   "metadata": {},
   "outputs": [
    {
     "data": {
      "text/plain": [
       "Array([[ 0.5978207 , -0.4696271 ],\n",
       "       [ 0.4343688 , -1.5931484 ],\n",
       "       [-0.17975874, -0.51134485],\n",
       "       ...,\n",
       "       [-0.8257605 , -0.45350626],\n",
       "       [ 1.2875509 , -0.38025892],\n",
       "       [ 1.0596844 , -1.1043248 ]], dtype=float32, weak_type=True)"
      ]
     },
     "execution_count": 175,
     "metadata": {},
     "output_type": "execute_result"
    }
   ],
   "source": [
    "sample_fn = partial(single_sample_fn, params)\n",
    "\n",
    "n_samples = 100\n",
    "sample_key = jax.random.split(key, n_samples ** 2)\n",
    "x_sample = jax.vmap(sample_fn)(sample_key)\n",
    "\n",
    "x_sample"
   ]
  },
  {
   "cell_type": "code",
   "execution_count": 176,
   "metadata": {},
   "outputs": [
    {
     "data": {
      "text/plain": [
       "(-2.0, 2.0)"
      ]
     },
     "execution_count": 176,
     "metadata": {},
     "output_type": "execute_result"
    },
    {
     "data": {
      "image/png": "[encoded data removed]",
      "text/plain": [
       "<Figure size 640x480 with 1 Axes>"
      ]
     },
     "metadata": {},
     "output_type": "display_data"
    }
   ],
   "source": [
    "\n",
    "plt.hist2d(x_sample[:, 0], x_sample[:, 1], bins=100)\n",
    "plt.xlim(-2 ,2)\n",
    "plt.ylim(-2, 2)"
   ]
  },
  {
   "cell_type": "code",
   "execution_count": null,
   "metadata": {},
   "outputs": [],
   "source": []
  },
  {
   "cell_type": "code",
   "execution_count": null,
   "metadata": {},
   "outputs": [],
   "source": []
  }
 ],
 "metadata": {
  "kernelspec": {
   "display_name": "torch-mps",
   "language": "python",
   "name": "python3"
  },
  "language_info": {
   "codemirror_mode": {
    "name": "ipython",
    "version": 3
   },
   "file_extension": ".py",
   "mimetype": "text/x-python",
   "name": "python",
   "nbconvert_exporter": "python",
   "pygments_lexer": "ipython3",
   "version": "3.9.13"
  },
  "orig_nbformat": 4
 },
 "nbformat": 4,
 "nbformat_minor": 2
}

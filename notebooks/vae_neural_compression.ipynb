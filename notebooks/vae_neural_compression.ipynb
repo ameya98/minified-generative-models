{
 "cells": [
  {
   "cell_type": "code",
   "execution_count": 268,
   "metadata": {},
   "outputs": [],
   "source": [
    "import jax.numpy as jnp\n",
    "import jax\n",
    "from jax import random\n",
    "\n",
    "from flax import linen as nn\n",
    "from einops import rearrange\n",
    "import optax\n",
    "import tensorflow as tf\n",
    "import numpy as np\n",
    "from tqdm import tqdm, trange\n",
    "import matplotlib.pyplot as plt\n",
    "\n",
    "import tensorflow_datasets as tfds\n",
    "import tensorflow_probability.substrates.jax as tfp\n",
    "\n",
    "# Ensure TF does not see GPU and grab all GPU memory\n",
    "tf.config.experimental.set_visible_devices([], \"GPU\")"
   ]
  },
  {
   "cell_type": "code",
   "execution_count": 269,
   "metadata": {},
   "outputs": [],
   "source": [
    "def get_mnist_dataset(split):\n",
    "    \"\"\"Returns a raw array of the MNIST dataset.\"\"\"\n",
    "    # Load the dataset\n",
    "    ds = tfds.load('mnist', split=split, shuffle_files=True if split == \"train\" else False)\n",
    "\n",
    "    # Define a function to preprocess each batch\n",
    "    def preprocess(batch):\n",
    "        images = batch['image']\n",
    "        # Flatten the images and normalize their pixel values to [0, 1]\n",
    "        images = tf.cast(images, tf.float32) / 255.\n",
    "        labels = batch['label']\n",
    "        return images, labels\n",
    "\n",
    "    # Map the preprocessing function to each batch\n",
    "    ds = ds.map(preprocess)\n",
    "    \n",
    "    # Convert the tf.data.Dataset into an iterable of NumPy arrays\n",
    "    numpy_ds = tfds.as_numpy(ds)\n",
    "\n",
    "    # Convert the iterable of NumPy arrays into a single NumPy array\n",
    "    images, labels = zip(*list(numpy_ds))\n",
    "    images = jnp.array(images)\n",
    "    labels = jnp.array(labels)\n",
    "\n",
    "    return images, labels\n",
    "\n",
    "x, labels = get_mnist_dataset(\"train\")"
   ]
  },
  {
   "cell_type": "code",
   "execution_count": 71,
   "metadata": {},
   "outputs": [],
   "source": [
    "class MLP(nn.Module):\n",
    "    \"\"\" A simple MLP in Flax. This is the score function.\n",
    "    \"\"\"\n",
    "    hidden_dim: int = 256\n",
    "    out_dim: int = 2\n",
    "    n_layers: int = 4\n",
    "\n",
    "    @nn.compact\n",
    "    def __call__(self, x):\n",
    "        for _ in range(self.n_layers):\n",
    "            x = nn.Dense(features=self.hidden_dim)(x)\n",
    "            x = nn.gelu(x)\n",
    "        x = nn.Dense(features=self.out_dim)(x)\n",
    "        return x\n"
   ]
  },
  {
   "cell_type": "code",
   "execution_count": 369,
   "metadata": {},
   "outputs": [],
   "source": [
    "class VAE(nn.Module):\n",
    "    \"\"\" A simple variational auto-encoder module.\n",
    "    \"\"\"\n",
    "    num_latents: int = 4\n",
    "    num_out: int = 2\n",
    "\n",
    "    def setup(self):\n",
    "        self.encoder = MLP(out_dim=self.num_latents * 2)\n",
    "        self.decoder = MLP(out_dim=28 * 28)\n",
    "\n",
    "    def __call__(self, x, beta, z_rng):\n",
    "\n",
    "        # Flatten x\n",
    "        x = rearrange(x, 'b h w c -> b (h w c)')\n",
    "\n",
    "        # Concatenate x and beta\n",
    "        x = jnp.concatenate([x, beta], axis=-1)\n",
    "\n",
    "        # Get variational parameters from encoder\n",
    "        enc = self.encoder(x)  # Shape (batch_size, num_latents * 2)\n",
    "        enc = rearrange(enc, 'b (n c) -> b n c', c=2)  # Reshape to (batch_size, num_latents, 2)\n",
    "        mu, logvar = enc[:, :, 0], enc[:, :, 1]\n",
    "\n",
    "        # Sample from variational distrib. of latents\n",
    "        z = tfp.distributions.Normal(loc=mu, scale=jnp.exp(0.5 * logvar)).sample(seed=z_rng)\n",
    "\n",
    "        # Concatenate z and beta\n",
    "        z = jnp.concatenate([z, beta], axis=-1)\n",
    "        \n",
    "        # Decode\n",
    "        recon_x = self.decoder(z)\n",
    "\n",
    "        return recon_x, mu, logvar\n",
    "\n",
    "@jax.vmap\n",
    "def rate(mu, logvar):\n",
    "    \"\"\" KL-divergence between latent variational distribution and unit Normal prior\n",
    "    \"\"\"\n",
    "    prior_latent = tfp.distributions.Normal(loc=0., scale=1.)  # Prior\n",
    "    q_latent = tfp.distributions.Normal(loc=mu, scale=jnp.exp(0.5 * logvar))  # Variational latent distrib.\n",
    "\n",
    "    return tfp.distributions.kl_divergence(q_latent, prior_latent)\n",
    "\n",
    "@jax.vmap\n",
    "def distortion(pred, true, beta):\n",
    "    \"\"\" Gaussian MSE\n",
    "    \"\"\"\n",
    "    true = rearrange(true, 'h w c -> (h w c)')\n",
    "    # Restrict between 0 and 1 with sigmoid\n",
    "    pred = nn.sigmoid(pred)\n",
    "    log_prob = tfp.distributions.Normal(loc=pred, scale=beta).unnormalized_log_prob(true)\n",
    "    return -log_prob\n",
    "\n",
    "from functools import partial\n",
    "\n",
    "@partial(jax.jit, static_argnums=(1,))\n",
    "def loss_fn(params, vae, x_batch, log_beta_batch, z_rng):\n",
    "\n",
    "    beta_batch = jnp.power(10., log_beta_batch)\n",
    "    \n",
    "    recon_x, mean, logvar = vae.apply(params, x_batch, beta_batch, z_rng)\n",
    "\n",
    "    R = rate(mean, logvar).mean(-1)\n",
    "    D = distortion(recon_x, x_batch, beta_batch).mean(-1)\n",
    "\n",
    "    loss = D + R\n",
    "    return loss.mean()"
   ]
  },
  {
   "cell_type": "code",
   "execution_count": 370,
   "metadata": {},
   "outputs": [],
   "source": [
    "num_latents = 64\n",
    "num_out = 28 * 28\n",
    "\n",
    "vae = VAE(num_latents=num_latents, num_out=num_out)\n",
    "key = jax.random.PRNGKey(42)\n",
    "key, z_key = random.split(key)\n",
    "_, params = vae.init_with_output(key, x[:16], jnp.ones((16, 1)), z_key)"
   ]
  },
  {
   "cell_type": "code",
   "execution_count": 371,
   "metadata": {},
   "outputs": [
    {
     "name": "stdout",
     "output_type": "stream",
     "text": [
      "6.2491755\n"
     ]
    }
   ],
   "source": [
    "print(loss_fn(params, vae, x[:128], jnp.ones((128, 1)) * 2.,  key))"
   ]
  },
  {
   "cell_type": "code",
   "execution_count": 372,
   "metadata": {},
   "outputs": [
    {
     "name": "stderr",
     "output_type": "stream",
     "text": [
      "100%|██████████| 1000/1000 [00:34<00:00, 28.70it/s, val=0.24463052]\n"
     ]
    }
   ],
   "source": [
    "n_steps = 1000\n",
    "n_batch = 512\n",
    "\n",
    "opt = optax.adam(learning_rate=3e-4)\n",
    "opt_state = opt.init(params)\n",
    "\n",
    "with trange(n_steps) as steps:\n",
    "    for step in steps:\n",
    "\n",
    "        # Draw a random batches from x\n",
    "        key, subkey = jax.random.split(key)\n",
    "        idx = jax.random.choice(key, x.shape[0], shape=(n_batch,))\n",
    "        \n",
    "        x_batch = x[idx]\n",
    "\n",
    "        # Draw random batch of betas\n",
    "        key, subkey = jax.random.split(key)\n",
    "        log_beta_batch = jnp.ones((n_batch, 1)) * -1.\n",
    "\n",
    "        # Get loss and update\n",
    "        loss, grads = jax.value_and_grad(loss_fn)(params, vae, x_batch, log_beta_batch, key)\n",
    "        updates, opt_state = opt.update(grads, opt_state, params)\n",
    "\n",
    "        params = optax.apply_updates(params, updates)\n",
    "\n",
    "        steps.set_postfix(val=loss)"
   ]
  },
  {
   "cell_type": "code",
   "execution_count": 373,
   "metadata": {},
   "outputs": [
    {
     "data": {
      "text/plain": [
       "<matplotlib.image.AxesImage at 0x337457c40>"
      ]
     },
     "execution_count": 373,
     "metadata": {},
     "output_type": "execute_result"
    },
    {
     "data": {
      "image/png": "[encoded data removed]",
      "text/plain": [
       "<Figure size 640x480 with 1 Axes>"
      ]
     },
     "metadata": {},
     "output_type": "display_data"
    }
   ],
   "source": [
    "@jax.jit\n",
    "def eval(params, z):\n",
    "    def eval_model(vae):\n",
    "        return vae.decoder(z)\n",
    "    return nn.sigmoid(nn.apply(eval_model, vae)(params))\n",
    "\n",
    "z = jax.random.normal(key, shape=(16, num_latents))\n",
    "z = jnp.concatenate([z, jnp.zeros((16, 1))], axis=-1)\n",
    "x_samples = eval(params, z)\n",
    "\n",
    "# Make grid and plot x_samples\n",
    "x_samples = rearrange(x_samples, 'b (h w c) -> b h w c', h=28, w=28, c=1)\n",
    "\n",
    "plt.imshow(x_samples[6, :, :, 0], cmap='gray')"
   ]
  },
  {
   "cell_type": "code",
   "execution_count": 374,
   "metadata": {},
   "outputs": [
    {
     "name": "stderr",
     "output_type": "stream",
     "text": [
      "100%|██████████| 1000/1000 [00:35<00:00, 27.82it/s, val=7.333931] \n"
     ]
    }
   ],
   "source": [
    "n_steps = 1000\n",
    "n_batch = 512\n",
    "\n",
    "opt = optax.adam(learning_rate=3e-4)\n",
    "opt_state = opt.init(params)\n",
    "\n",
    "with trange(n_steps) as steps:\n",
    "    for step in steps:\n",
    "\n",
    "        # Draw a random batches from x\n",
    "        key, subkey = jax.random.split(key)\n",
    "        idx = jax.random.choice(key, x.shape[0], shape=(n_batch,))\n",
    "        \n",
    "        x_batch = x[idx]\n",
    "\n",
    "        # Draw random batch of betas\n",
    "        key, subkey = jax.random.split(key)\n",
    "        log_beta_batch = jax.random.uniform(key, shape=(n_batch, 1), minval=-2., maxval=1)\n",
    "\n",
    "        # Get loss and update\n",
    "        loss, grads = jax.value_and_grad(loss_fn)(params, vae, x_batch, log_beta_batch, key)\n",
    "        updates, opt_state = opt.update(grads, opt_state, params)\n",
    "\n",
    "        params = optax.apply_updates(params, updates)\n",
    "\n",
    "        steps.set_postfix(val=loss)"
   ]
  },
  {
   "cell_type": "code",
   "execution_count": 395,
   "metadata": {},
   "outputs": [
    {
     "data": {
      "text/plain": [
       "Text(0.5, 0, 'Distortion')"
      ]
     },
     "execution_count": 395,
     "metadata": {},
     "output_type": "execute_result"
    },
    {
     "data": {
      "image/png": "[encoded data removed]",
      "text/plain": [
       "<Figure size 640x480 with 1 Axes>"
      ]
     },
     "metadata": {},
     "output_type": "display_data"
    }
   ],
   "source": [
    "@jax.jit\n",
    "def get_RD(params, x, beta, key):\n",
    "    x = rearrange(x, 'b h w c -> b (h w c)')\n",
    "    x = jnp.concatenate([x, beta], axis=-1)\n",
    "    def encode_decode_model(vae):\n",
    "        enc = vae.encoder(x)\n",
    "        enc = rearrange(enc, 'b (n c) -> b n c', c=2)\n",
    "        mu, logvar = enc[:, :, 0], enc[:, :, 1]\n",
    "        R = rate(mu, logvar)\n",
    "        z = tfp.distributions.Normal(loc=mu, scale=jnp.exp(0.5 * logvar)).sample(seed=key)\n",
    "        z = jnp.concatenate([z, beta], axis=-1)\n",
    "        return vae.decoder(z), R\n",
    "    \n",
    "    reco, R = nn.apply(encode_decode_model, vae)(params)\n",
    "    x = rearrange(x[..., :-1], 'b (h w c) -> b h w c', h=28, w=28, c=1)\n",
    "    D = distortion(reco, x, jnp.ones_like(beta))\n",
    "    return R.mean(-1).mean(), D.mean(-1).mean(), reco\n",
    "\n",
    "ii = 40\n",
    "\n",
    "log_beta_ary = jnp.linspace(-2., 1, 20)\n",
    "\n",
    "n_agg = 16\n",
    "\n",
    "reco_list = []\n",
    "for log_beta in log_beta_ary:\n",
    "    beta = jnp.ones((n_agg, 1)) * 10 ** log_beta\n",
    "    R, D, reco = get_RD(params, x[ii:ii + n_agg], beta, key)\n",
    "    plt.scatter(D, R, alpha=0.5, color='k')\n",
    "    reco = nn.sigmoid(rearrange(reco, 'b (h w c) -> b h w c', h=28, w=28, c=1))\n",
    "    reco_list.append(reco)\n",
    "\n",
    "plt.ylabel('Rate')\n",
    "plt.xlabel('Distortion')"
   ]
  },
  {
   "cell_type": "code",
   "execution_count": 393,
   "metadata": {},
   "outputs": [
    {
     "ename": "EinopsError",
     "evalue": " Error while processing rearrange-reduction pattern \"n1 n2 h w 1 -> (n1 h) (n2 w)\".\n Input tensor shape: (20, 16, 28, 28, 1). Additional info: {'n1': 4}.\n Shape mismatch, 20 != 4",
     "output_type": "error",
     "traceback": [
      "\u001b[0;31m---------------------------------------------------------------------------\u001b[0m",
      "\u001b[0;31mEinopsError\u001b[0m                               Traceback (most recent call last)",
      "File \u001b[0;32m/opt/homebrew/Caskroom/miniforge/base/envs/torch-mps/lib/python3.9/site-packages/einops/einops.py:412\u001b[0m, in \u001b[0;36mreduce\u001b[0;34m(tensor, pattern, reduction, **axes_lengths)\u001b[0m\n\u001b[1;32m    411\u001b[0m     recipe \u001b[39m=\u001b[39m _prepare_transformation_recipe(pattern, reduction, axes_lengths\u001b[39m=\u001b[39mhashable_axes_lengths)\n\u001b[0;32m--> 412\u001b[0m     \u001b[39mreturn\u001b[39;00m _apply_recipe(recipe, tensor, reduction_type\u001b[39m=\u001b[39;49mreduction)\n\u001b[1;32m    413\u001b[0m \u001b[39mexcept\u001b[39;00m EinopsError \u001b[39mas\u001b[39;00m e:\n",
      "File \u001b[0;32m/opt/homebrew/Caskroom/miniforge/base/envs/torch-mps/lib/python3.9/site-packages/einops/einops.py:235\u001b[0m, in \u001b[0;36m_apply_recipe\u001b[0;34m(recipe, tensor, reduction_type)\u001b[0m\n\u001b[1;32m    233\u001b[0m backend \u001b[39m=\u001b[39m get_backend(tensor)\n\u001b[1;32m    234\u001b[0m init_shapes, reduced_axes, axes_reordering, added_axes, final_shapes \u001b[39m=\u001b[39m \\\n\u001b[0;32m--> 235\u001b[0m     _reconstruct_from_shape(recipe, backend\u001b[39m.\u001b[39;49mshape(tensor))\n\u001b[1;32m    236\u001b[0m tensor \u001b[39m=\u001b[39m backend\u001b[39m.\u001b[39mreshape(tensor, init_shapes)\n",
      "File \u001b[0;32m/opt/homebrew/Caskroom/miniforge/base/envs/torch-mps/lib/python3.9/site-packages/einops/einops.py:191\u001b[0m, in \u001b[0;36m_reconstruct_from_shape_uncached\u001b[0;34m(self, shape)\u001b[0m\n\u001b[1;32m    190\u001b[0m     \u001b[39mif\u001b[39;00m \u001b[39misinstance\u001b[39m(length, \u001b[39mint\u001b[39m) \u001b[39mand\u001b[39;00m \u001b[39misinstance\u001b[39m(known_product, \u001b[39mint\u001b[39m) \u001b[39mand\u001b[39;00m length \u001b[39m!=\u001b[39m known_product:\n\u001b[0;32m--> 191\u001b[0m         \u001b[39mraise\u001b[39;00m EinopsError(\u001b[39m'\u001b[39m\u001b[39mShape mismatch, \u001b[39m\u001b[39m{}\u001b[39;00m\u001b[39m != \u001b[39m\u001b[39m{}\u001b[39;00m\u001b[39m'\u001b[39m\u001b[39m.\u001b[39mformat(length, known_product))\n\u001b[1;32m    192\u001b[0m \u001b[39m# this is enforced when recipe is created\u001b[39;00m\n\u001b[1;32m    193\u001b[0m \u001b[39m# elif len(unknown_axes) > 1:\u001b[39;00m\n\u001b[1;32m    194\u001b[0m \u001b[39m#     raise EinopsError(\u001b[39;00m\n\u001b[0;32m   (...)\u001b[0m\n\u001b[1;32m    197\u001b[0m \u001b[39m#     )\u001b[39;00m\n\u001b[1;32m    198\u001b[0m \u001b[39melse\u001b[39;00m:\n",
      "\u001b[0;31mEinopsError\u001b[0m: Shape mismatch, 20 != 4",
      "\nDuring handling of the above exception, another exception occurred:\n",
      "\u001b[0;31mEinopsError\u001b[0m                               Traceback (most recent call last)",
      "\u001b[1;32m/Users/smsharma/Projects/minified-generative/notebooks/vae_neural_compression.ipynb Cell 11\u001b[0m in \u001b[0;36m3\n\u001b[1;32m      <a href='vscode-notebook-cell:/Users/smsharma/Projects/minified-generative/notebooks/vae_neural_compression.ipynb#X12sZmlsZQ%3D%3D?line=0'>1</a>\u001b[0m reco_list \u001b[39m=\u001b[39m jnp\u001b[39m.\u001b[39marray(reco_list)\n\u001b[0;32m----> <a href='vscode-notebook-cell:/Users/smsharma/Projects/minified-generative/notebooks/vae_neural_compression.ipynb#X12sZmlsZQ%3D%3D?line=2'>3</a>\u001b[0m reco_list \u001b[39m=\u001b[39m rearrange(reco_list, \u001b[39m\"\u001b[39;49m\u001b[39mn1 n2 h w 1 -> (n1 h) (n2 w)\u001b[39;49m\u001b[39m\"\u001b[39;49m, n1\u001b[39m=\u001b[39;49m\u001b[39m4\u001b[39;49m)\n\u001b[1;32m      <a href='vscode-notebook-cell:/Users/smsharma/Projects/minified-generative/notebooks/vae_neural_compression.ipynb#X12sZmlsZQ%3D%3D?line=5'>6</a>\u001b[0m plt\u001b[39m.\u001b[39mimshow(reco_list, cmap\u001b[39m=\u001b[39m\u001b[39m'\u001b[39m\u001b[39mgray\u001b[39m\u001b[39m'\u001b[39m)\n\u001b[1;32m      <a href='vscode-notebook-cell:/Users/smsharma/Projects/minified-generative/notebooks/vae_neural_compression.ipynb#X12sZmlsZQ%3D%3D?line=7'>8</a>\u001b[0m reco_list\u001b[39m.\u001b[39mshape\n",
      "File \u001b[0;32m/opt/homebrew/Caskroom/miniforge/base/envs/torch-mps/lib/python3.9/site-packages/einops/einops.py:483\u001b[0m, in \u001b[0;36mrearrange\u001b[0;34m(tensor, pattern, **axes_lengths)\u001b[0m\n\u001b[1;32m    481\u001b[0m         \u001b[39mraise\u001b[39;00m \u001b[39mTypeError\u001b[39;00m(\u001b[39m\"\u001b[39m\u001b[39mRearrange can\u001b[39m\u001b[39m'\u001b[39m\u001b[39mt be applied to an empty list\u001b[39m\u001b[39m\"\u001b[39m)\n\u001b[1;32m    482\u001b[0m     tensor \u001b[39m=\u001b[39m get_backend(tensor[\u001b[39m0\u001b[39m])\u001b[39m.\u001b[39mstack_on_zeroth_dimension(tensor)\n\u001b[0;32m--> 483\u001b[0m \u001b[39mreturn\u001b[39;00m reduce(cast(Tensor, tensor), pattern, reduction\u001b[39m=\u001b[39;49m\u001b[39m'\u001b[39;49m\u001b[39mrearrange\u001b[39;49m\u001b[39m'\u001b[39;49m, \u001b[39m*\u001b[39;49m\u001b[39m*\u001b[39;49maxes_lengths)\n",
      "File \u001b[0;32m/opt/homebrew/Caskroom/miniforge/base/envs/torch-mps/lib/python3.9/site-packages/einops/einops.py:420\u001b[0m, in \u001b[0;36mreduce\u001b[0;34m(tensor, pattern, reduction, **axes_lengths)\u001b[0m\n\u001b[1;32m    418\u001b[0m     message \u001b[39m+\u001b[39m\u001b[39m=\u001b[39m \u001b[39m'\u001b[39m\u001b[39m\\n\u001b[39;00m\u001b[39m Input is list. \u001b[39m\u001b[39m'\u001b[39m\n\u001b[1;32m    419\u001b[0m message \u001b[39m+\u001b[39m\u001b[39m=\u001b[39m \u001b[39m'\u001b[39m\u001b[39mAdditional info: \u001b[39m\u001b[39m{}\u001b[39;00m\u001b[39m.\u001b[39m\u001b[39m'\u001b[39m\u001b[39m.\u001b[39mformat(axes_lengths)\n\u001b[0;32m--> 420\u001b[0m \u001b[39mraise\u001b[39;00m EinopsError(message \u001b[39m+\u001b[39m \u001b[39m'\u001b[39m\u001b[39m\\n\u001b[39;00m\u001b[39m \u001b[39m\u001b[39m{}\u001b[39;00m\u001b[39m'\u001b[39m\u001b[39m.\u001b[39mformat(e))\n",
      "\u001b[0;31mEinopsError\u001b[0m:  Error while processing rearrange-reduction pattern \"n1 n2 h w 1 -> (n1 h) (n2 w)\".\n Input tensor shape: (20, 16, 28, 28, 1). Additional info: {'n1': 4}.\n Shape mismatch, 20 != 4"
     ]
    }
   ],
   "source": [
    "reco_list = jnp.array(reco_list)\n",
    "\n",
    "reco_list = rearrange(reco_list, \"n1 n2 h w 1 -> (n1 h) (n2 w)\", n1=4)\n",
    "\n",
    "plt.imshow(reco_list, cmap='gray')\n",
    "\n",
    "reco_list.shape"
   ]
  },
  {
   "cell_type": "code",
   "execution_count": null,
   "metadata": {},
   "outputs": [],
   "source": []
  }
 ],
 "metadata": {
  "kernelspec": {
   "display_name": "Python 3",
   "language": "python",
   "name": "python3"
  },
  "language_info": {
   "codemirror_mode": {
    "name": "ipython",
    "version": 3
   },
   "file_extension": ".py",
   "mimetype": "text/x-python",
   "name": "python",
   "nbconvert_exporter": "python",
   "pygments_lexer": "ipython3",
   "version": "3.9.13"
  },
  "orig_nbformat": 4
 },
 "nbformat": 4,
 "nbformat_minor": 2
}

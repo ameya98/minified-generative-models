{
 "cells": [
  {
   "cell_type": "code",
   "execution_count": 73,
   "metadata": {},
   "outputs": [],
   "source": [
    "import jax.numpy as jnp\n",
    "import jax\n",
    "from jax import random\n",
    "\n",
    "from flax import linen as nn\n",
    "from einops import rearrange\n",
    "import optax\n",
    "import tensorflow as tf\n",
    "import numpy as np\n",
    "from tqdm import tqdm, trange\n",
    "import matplotlib.pyplot as plt\n",
    "\n",
    "import tensorflow_datasets as tfds\n",
    "import tensorflow_probability.substrates.jax as tfp\n",
    "\n",
    "# Ensure TF does not see GPU and grab all GPU memory\n",
    "tf.config.experimental.set_visible_devices([], \"GPU\")"
   ]
  },
  {
   "cell_type": "code",
   "execution_count": 74,
   "metadata": {},
   "outputs": [],
   "source": [
    "num_batch = 64"
   ]
  },
  {
   "cell_type": "code",
   "execution_count": 75,
   "metadata": {},
   "outputs": [],
   "source": [
    "import numpy as np\n",
    "\n",
    "def get_mnist_dataset(split):\n",
    "    \"\"\"Returns a raw array of the MNIST dataset.\"\"\"\n",
    "    # Load the dataset\n",
    "    ds = tfds.load('mnist', split=split, shuffle_files=True if split == \"train\" else False)\n",
    "\n",
    "    # Define a function to preprocess each batch\n",
    "    def preprocess(batch):\n",
    "        mean, std = 0.1307, 0.3081\n",
    "        images = batch['image']\n",
    "        # Flatten the images and normalize their pixel values to [0, 1]\n",
    "        images = tf.cast(images, tf.float32) / 255\n",
    "        images = 2. * images - 1.\n",
    "        labels = batch['label']\n",
    "        return images, labels\n",
    "\n",
    "    # Map the preprocessing function to each batch\n",
    "    ds = ds.map(preprocess)\n",
    "    \n",
    "    # Convert the tf.data.Dataset into an iterable of NumPy arrays\n",
    "    numpy_ds = tfds.as_numpy(ds)\n",
    "\n",
    "    # Convert the iterable of NumPy arrays into a single NumPy array\n",
    "    images, labels = zip(*list(numpy_ds))\n",
    "    images = jnp.array(images)\n",
    "    labels = jnp.array(labels)\n",
    "\n",
    "    return images, labels\n",
    "\n",
    "x, labels = get_mnist_dataset(\"train\")"
   ]
  },
  {
   "cell_type": "code",
   "execution_count": 76,
   "metadata": {},
   "outputs": [],
   "source": [
    "class MLP(nn.Module):\n",
    "    \"\"\" A simple MLP in Flax. This is the score function.\n",
    "    \"\"\"\n",
    "    hidden_dim: int = 256\n",
    "    out_dim: int = 2\n",
    "    n_layers: int = 4\n",
    "\n",
    "    @nn.compact\n",
    "    def __call__(self, x):\n",
    "        for _ in range(self.n_layers):\n",
    "            x = nn.Dense(features=self.hidden_dim)(x)\n",
    "            x = nn.gelu(x)\n",
    "        x = nn.Dense(features=self.out_dim)(x)\n",
    "        return x\n"
   ]
  },
  {
   "cell_type": "code",
   "execution_count": 77,
   "metadata": {},
   "outputs": [],
   "source": [
    "class VAE(nn.Module):\n",
    "    \"\"\" A simple variational auto-encoder module.\n",
    "    \"\"\"\n",
    "    num_latents: int = 4\n",
    "    num_out: int = 2\n",
    "\n",
    "    def setup(self):\n",
    "        self.encoder = MLP(out_dim=self.num_latents * 2)\n",
    "        self.decoder = MLP(out_dim=28 * 28)\n",
    "\n",
    "    def __call__(self, x, beta, z_rng):\n",
    "\n",
    "        # Flatten x\n",
    "        x = rearrange(x, 'b h w c -> b (h w c)')\n",
    "\n",
    "        # Concatenate x and beta\n",
    "        x = jnp.concatenate([x, beta], axis=-1)\n",
    "\n",
    "        # Get variational parameters from encoder\n",
    "        enc = self.encoder(x)  # Shape (batch_size, num_latents * 2)\n",
    "        enc = rearrange(enc, 'b (n c) -> b n c', c=2)  # Reshape to (batch_size, num_latents, 2)\n",
    "        mu, logvar = enc[:, :, 0], enc[:, :, 1]\n",
    "\n",
    "        # Sample from variational distrib. of latents\n",
    "        z = tfp.distributions.Normal(loc=mu, scale=jnp.exp(0.5 * logvar)).sample(seed=z_rng)\n",
    "\n",
    "        # Concatenate z and beta\n",
    "        z = jnp.concatenate([z, beta], axis=-1)\n",
    "        \n",
    "        # Decode\n",
    "        recon_x = self.decoder(z)\n",
    "\n",
    "        return recon_x, mu, logvar\n",
    "\n",
    "@jax.vmap\n",
    "def kl_divergence(mu, logvar):\n",
    "    \"\"\" KL-divergence between latent variational distribution and unit Normal prior\n",
    "    \"\"\"\n",
    "    prior_latent = tfp.distributions.Normal(loc=0., scale=1.)  # Prior\n",
    "    q_latent = tfp.distributions.Normal(loc=mu, scale=jnp.exp(0.5 * logvar))  # Variational latent distrib.\n",
    "\n",
    "    return tfp.distributions.kl_divergence(q_latent, prior_latent)\n",
    "\n",
    "# @jax.vmap\n",
    "def reco_gap(pred, true, beta=0.01):\n",
    "    \"\"\" Gaussian MSE\n",
    "    \"\"\"\n",
    "    true = rearrange(true, 'b h w c -> b (h w c)')\n",
    "    log_prob = tfp.distributions.Normal(loc=pred, scale=beta).log_prob(true)\n",
    "    return -log_prob"
   ]
  },
  {
   "cell_type": "code",
   "execution_count": 78,
   "metadata": {},
   "outputs": [],
   "source": [
    "num_latents = 64\n",
    "num_out = 28 * 28\n",
    "\n",
    "vae = VAE(num_latents=num_latents, num_out=num_out)\n",
    "key = jax.random.PRNGKey(42)\n",
    "key, z_key = random.split(key)\n",
    "_, params = vae.init_with_output(key, x[:16], jnp.ones((16, 1)), z_key)\n"
   ]
  },
  {
   "cell_type": "code",
   "execution_count": 79,
   "metadata": {},
   "outputs": [
    {
     "name": "stdout",
     "output_type": "stream",
     "text": [
      "4714246000.0\n"
     ]
    }
   ],
   "source": [
    "@jax.jit\n",
    "def loss_fn(params, x_batch, log_beta_batch, z_rng):\n",
    "\n",
    "    beta_batch = jnp.power(10., log_beta_batch)\n",
    "    \n",
    "    recon_x, mean, logvar = vae.apply(params, x_batch, beta_batch, z_rng)\n",
    "\n",
    "    reco_loss = reco_gap(recon_x, x_batch, beta_batch).mean(-1)\n",
    "    kld_loss = kl_divergence(mean, logvar).mean(-1)\n",
    "\n",
    "    loss = reco_loss + kld_loss\n",
    "    return loss.mean()\n",
    "\n",
    "print(loss_fn(params, x[:128], jnp.ones((128, 1)) * -5.,  key))"
   ]
  },
  {
   "cell_type": "code",
   "execution_count": 80,
   "metadata": {},
   "outputs": [
    {
     "name": "stderr",
     "output_type": "stream",
     "text": [
      "100%|██████████| 5000/5000 [01:51<00:00, 44.98it/s, val=9660131.0] \n"
     ]
    }
   ],
   "source": [
    "n_steps = 5000\n",
    "n_batch = 128\n",
    "\n",
    "opt = optax.adam(learning_rate=3e-4)\n",
    "opt_state = opt.init(params)\n",
    "\n",
    "with trange(n_steps) as steps:\n",
    "    for step in steps:\n",
    "\n",
    "        # Draw a random batches from x\n",
    "        key, subkey = jax.random.split(key)\n",
    "        idx = jax.random.choice(key, x.shape[0], shape=(n_batch,))\n",
    "        \n",
    "        x_batch = x[idx]\n",
    "\n",
    "        # Draw random batch of betas\n",
    "        key, subkey = jax.random.split(key)\n",
    "        log_beta_batch = jax.random.uniform(key, shape=(n_batch, 1), minval=-5., maxval=1.)\n",
    "\n",
    "        # Get loss and update\n",
    "        loss, grads = jax.value_and_grad(loss_fn)(params, x_batch, log_beta_batch, key)\n",
    "        updates, opt_state = opt.update(grads, opt_state, params)\n",
    "\n",
    "        params = optax.apply_updates(params, updates)\n",
    "\n",
    "        steps.set_postfix(val=loss)"
   ]
  },
  {
   "cell_type": "code",
   "execution_count": 83,
   "metadata": {},
   "outputs": [
    {
     "data": {
      "image/png": "[encoded data removed]",
      "text/plain": [
       "<Figure size 640x480 with 1 Axes>"
      ]
     },
     "metadata": {},
     "output_type": "display_data"
    }
   ],
   "source": [
    "@jax.jit\n",
    "def eval(params, z):\n",
    "    def eval_model(vae):\n",
    "        return vae.decoder(z)\n",
    "    return nn.apply(eval_model, vae)(params)\n",
    "\n",
    "@jax.jit\n",
    "def encode_decode(params, x, beta, key):\n",
    "    x = jnp.concatenate([x, beta], axis=-1)\n",
    "    def encode_decode_model(vae):\n",
    "        enc = vae.encoder(x)\n",
    "        enc = rearrange(enc, 'b (n c) -> b n c', c=2)\n",
    "        mu, logvar = enc[:, :, 0], enc[:, :, 1]\n",
    "        z = tfp.distributions.Normal(loc=mu, scale=jnp.exp(0.5 * logvar)).sample(seed=key)\n",
    "        z = jnp.concatenate([z, beta], axis=-1)\n",
    "        return vae.decoder(z)\n",
    "    return nn.apply(encode_decode_model, vae)(params)\n",
    "\n",
    "# @jax.jit\n",
    "def get_RD(params, x, beta, key):\n",
    "    x = rearrange(x, 'b h w c -> b (h w c)')\n",
    "    x = jnp.concatenate([x, beta], axis=-1)\n",
    "    def encode_decode_model(vae):\n",
    "        enc = vae.encoder(x)\n",
    "        enc = rearrange(enc, 'b (n c) -> b n c', c=2)\n",
    "        mu, logvar = enc[:, :, 0], enc[:, :, 1]\n",
    "        q_latent = tfp.distributions.Normal(loc=mu, scale=jnp.exp(0.5 * logvar))\n",
    "        prior_latent = tfp.distributions.Normal(loc=0., scale=1.)\n",
    "        R = tfp.distributions.kl_divergence(q_latent, prior_latent)\n",
    "        z = q_latent.sample(seed=key)\n",
    "        z = jnp.concatenate([z, beta], axis=-1)\n",
    "        return vae.decoder(z), R, z\n",
    "    \n",
    "    reco, R, z = nn.apply(encode_decode_model, vae)(params)\n",
    "    z = z[...,  :-1]\n",
    "    x = rearrange(x[..., :-1], 'b (h w c) -> b h w c', h=28, w=28, c=1)\n",
    "    D = reco_gap(reco, x, jnp.ones((x.shape[0], 1)))\n",
    "    return R.sum(-1).mean(), D.sum(-1).mean(), reco\n",
    "\n",
    "ii = 423\n",
    "\n",
    "log_beta_ary = jnp.linspace(-5., 1., 100)\n",
    "\n",
    "n_agg = 16\n",
    "\n",
    "for log_beta in log_beta_ary:\n",
    "    beta = jnp.ones((n_agg, 1)) * 10 ** log_beta\n",
    "    R, D, reco = get_RD(params, x[ii:ii + n_agg], beta, key)\n",
    "    plt.scatter(R, D, alpha=0.5, color='k')"
   ]
  },
  {
   "cell_type": "code",
   "execution_count": null,
   "metadata": {},
   "outputs": [],
   "source": []
  }
 ],
 "metadata": {
  "kernelspec": {
   "display_name": "Python 3",
   "language": "python",
   "name": "python3"
  },
  "language_info": {
   "codemirror_mode": {
    "name": "ipython",
    "version": 3
   },
   "file_extension": ".py",
   "mimetype": "text/x-python",
   "name": "python",
   "nbconvert_exporter": "python",
   "pygments_lexer": "ipython3",
   "version": "3.9.13"
  },
  "orig_nbformat": 4
 },
 "nbformat": 4,
 "nbformat_minor": 2
}

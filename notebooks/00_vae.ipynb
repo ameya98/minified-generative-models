{
 "cells": [
  {
   "cell_type": "code",
   "execution_count": 4,
   "id": "a0526a03-4f93-4bc1-a2f0-e5eb436598d5",
   "metadata": {},
   "outputs": [],
   "source": [
    "import jax.numpy as jnp\n",
    "import jax\n",
    "from jax import random\n",
    "\n",
    "from flax import linen as nn\n",
    "\n",
    "import optax\n",
    "import tensorflow as tf\n",
    "import numpy as np\n",
    "from tqdm import tqdm, trange\n",
    "import matplotlib.pyplot as plt\n",
    "\n",
    "import tensorflow_probability.substrates.jax as tfp"
   ]
  },
  {
   "attachments": {},
   "cell_type": "markdown",
   "id": "973663bd",
   "metadata": {},
   "source": [
    "## The Dataset"
   ]
  },
  {
   "cell_type": "code",
   "execution_count": 5,
   "id": "a869aada",
   "metadata": {},
   "outputs": [
    {
     "data": {
      "text/plain": [
       "(-2.0, 2.0)"
      ]
     },
     "execution_count": 5,
     "metadata": {},
     "output_type": "execute_result"
    },
    {
     "data": {
      "image/png": "[encoded data removed]",
      "text/plain": [
       "<Figure size 640x480 with 1 Axes>"
      ]
     },
     "metadata": {},
     "output_type": "display_data"
    }
   ],
   "source": [
    "from sklearn import datasets, preprocessing\n",
    "\n",
    "n_samples = 10_000\n",
    "\n",
    "x, _ = datasets.make_moons(n_samples=n_samples, noise=.06)\n",
    "\n",
    "scaler = preprocessing.StandardScaler()\n",
    "x = scaler.fit_transform(x)\n",
    "\n",
    "plt.hist2d(x[:, 0], x[:, 1], bins=100)\n",
    "plt.xlim(-2 ,2)\n",
    "plt.ylim(-2, 2)"
   ]
  },
  {
   "cell_type": "code",
   "execution_count": 407,
   "id": "597f8ae2-280c-40f1-89e6-bc6ac1904dd6",
   "metadata": {},
   "outputs": [],
   "source": [
    "class MLP(nn.Module):\n",
    "    \"\"\" A simple MLP in Flax. This is the score function.\n",
    "    \"\"\"\n",
    "    hidden_dim: int = 64\n",
    "    out_dim: int = 2\n",
    "    n_layers: int = 3\n",
    "\n",
    "    @nn.compact\n",
    "    def __call__(self, x):\n",
    "        for _ in range(self.n_layers):\n",
    "            x = nn.Dense(features=self.hidden_dim)(x)\n",
    "            x = nn.relu(x)\n",
    "        x = nn.Dense(features=self.out_dim)(x)\n",
    "        return x"
   ]
  },
  {
   "cell_type": "code",
   "execution_count": 408,
   "id": "c3fc5e34-614b-48db-bfc8-ed3edc4d66b9",
   "metadata": {},
   "outputs": [],
   "source": [
    "from einops import rearrange\n",
    "\n",
    "class VAE(nn.Module):\n",
    "    \"\"\" A simple variational auto-encoder module.\n",
    "    \"\"\"\n",
    "    num_latents: int = 4\n",
    "    num_out: int = 2\n",
    "\n",
    "    def setup(self):\n",
    "        self.encoder = MLP(out_dim=self.num_latents * 2)\n",
    "        self.decoder = MLP(out_dim=self.num_out)\n",
    "\n",
    "    def __call__(self, x, z_rng):\n",
    "\n",
    "        # Get variational parameters from encoder\n",
    "        enc = self.encoder(x)  # Shape (batch_size, num_latents * 2)\n",
    "        enc = rearrange(enc, 'b (n c) -> b n c', c=2)  # Reshape to (batch_size, num_latents, 2)\n",
    "        mu, logvar = enc[:, :, 0], enc[:, :, 1]\n",
    "\n",
    "        # Sample from variational distrib. of latents\n",
    "        z = tfp.distributions.Normal(loc=mu, scale=jnp.exp(0.5 * logvar)).sample(seed=z_rng)\n",
    "\n",
    "        # Decode\n",
    "        recon_x = self.decoder(z)\n",
    "\n",
    "        return recon_x, mu, logvar\n",
    "\n",
    "@jax.vmap\n",
    "def kl_divergence(mu, logvar):\n",
    "    \"\"\" KL-divergence between latent variational distribution and unit Normal prior\n",
    "    \"\"\"\n",
    "    prior_latent = tfp.distributions.Normal(loc=0., scale=1.)  # Prior\n",
    "    q_latent = tfp.distributions.Normal(loc=mu, scale=jnp.exp(0.5 * logvar))  # Variational latent distrib.\n",
    "\n",
    "    return tfp.distributions.kl_divergence(q_latent, prior_latent)\n",
    "\n",
    "@jax.vmap\n",
    "def reco_gap(pred, true, scale=0.06):\n",
    "    \"\"\" Gaussian MSE\n",
    "    \"\"\"\n",
    "    log_prob = tfp.distributions.Normal(loc=pred, scale=scale).log_prob(true)\n",
    "    return -log_prob"
   ]
  },
  {
   "cell_type": "code",
   "execution_count": 409,
   "id": "cdec032e",
   "metadata": {},
   "outputs": [],
   "source": [
    "num_latents = 16\n",
    "\n",
    "vae = VAE(num_latents=num_latents)\n",
    "key = jax.random.PRNGKey(42)\n",
    "key, z_key = random.split(key)\n",
    "_, params = vae.init_with_output(key, x[:16], z_key)"
   ]
  },
  {
   "cell_type": "code",
   "execution_count": 410,
   "id": "3deee6ce",
   "metadata": {},
   "outputs": [
    {
     "name": "stdout",
     "output_type": "stream",
     "text": [
      "419.43466\n"
     ]
    }
   ],
   "source": [
    "def loss_fn(params, x_batch, z_rng):\n",
    "    recon_x, mean, logvar = vae.apply(params, x_batch, z_rng)\n",
    "\n",
    "    reco_loss = reco_gap(recon_x, x_batch).sum(-1)\n",
    "    kld_loss = kl_divergence(mean, logvar).mean(-1)\n",
    "\n",
    "    loss = reco_loss + kld_loss\n",
    "    return loss.mean()\n",
    "\n",
    "print(loss_fn(params, x[:16], key))"
   ]
  },
  {
   "cell_type": "code",
   "execution_count": 411,
   "id": "a6c73293",
   "metadata": {},
   "outputs": [],
   "source": [
    "opt = optax.adam(learning_rate=1e-4)\n",
    "opt_state = opt.init(params)"
   ]
  },
  {
   "cell_type": "code",
   "execution_count": 412,
   "id": "f1f2d837",
   "metadata": {},
   "outputs": [
    {
     "name": "stderr",
     "output_type": "stream",
     "text": [
      "100%|██████████| 1000/1000 [00:47<00:00, 21.17it/s, val=0.37520915] \n"
     ]
    }
   ],
   "source": [
    "n_steps = 1000\n",
    "n_batch = 128\n",
    "\n",
    "with trange(n_steps) as steps:\n",
    "    for step in steps:\n",
    "\n",
    "        # Draw a random batches from x\n",
    "        key, subkey = jax.random.split(key)\n",
    "        idx = jax.random.choice(key, x.shape[0], shape=(n_batch,))\n",
    "        \n",
    "        x_batch = x[idx]\n",
    "\n",
    "        loss, grads = jax.value_and_grad(loss_fn)(params, x_batch, key)\n",
    "        updates, opt_state = opt.update(grads, opt_state, params)\n",
    "\n",
    "        params = optax.apply_updates(params, updates)\n",
    "\n",
    "        steps.set_postfix(val=loss)"
   ]
  },
  {
   "cell_type": "code",
   "execution_count": 413,
   "id": "cc3b4499-a800-4478-8c34-c88502142901",
   "metadata": {},
   "outputs": [],
   "source": [
    "@jax.jit\n",
    "def eval(params, z):\n",
    "    def eval_model(vae):\n",
    "        return vae.decoder(z)\n",
    "    return nn.apply(eval_model, vae)(params)\n",
    "\n",
    "@jax.jit\n",
    "def encode_decode(params, x, key):\n",
    "    def encode_decode_model(vae):\n",
    "        enc = vae.encoder(x)\n",
    "        enc = rearrange(enc, 'b (n c) -> b n c', c=2)\n",
    "        mu, logvar = enc[:, :, 0], enc[:, :, 1]\n",
    "        z = tfp.distributions.Normal(loc=mu, scale=jnp.exp(0.5 * logvar)).sample(seed=key)\n",
    "        return vae.decoder(z)\n",
    "    return nn.apply(encode_decode_model, vae)(params)"
   ]
  },
  {
   "cell_type": "code",
   "execution_count": 414,
   "id": "5334187e",
   "metadata": {},
   "outputs": [
    {
     "data": {
      "image/png": "[encoded data removed]",
      "text/plain": [
       "<Figure size 640x480 with 1 Axes>"
      ]
     },
     "metadata": {},
     "output_type": "display_data"
    }
   ],
   "source": [
    "x_samples = encode_decode(params, x, key)\n",
    "plt.hist2d(x_samples[:, 0], x_samples[:, 1], bins=100);"
   ]
  },
  {
   "cell_type": "code",
   "execution_count": 417,
   "id": "7c823bb1-3e6b-4a6c-8e70-78759dd774ac",
   "metadata": {},
   "outputs": [],
   "source": [
    "# z = jax.random.normal(key, shape=(10_000, num_latents))\n",
    "# x_sample = eval(params, z)\n",
    "# \n",
    "# plt.hist2d(x_sample[:, 0], x_sample[:, 1], bins=100)\n",
    "# plt.xlim(-2 ,2)\n",
    "# plt.ylim(-2, 2)"
   ]
  },
  {
   "cell_type": "code",
   "execution_count": null,
   "id": "0accf464",
   "metadata": {},
   "outputs": [],
   "source": []
  },
  {
   "cell_type": "code",
   "execution_count": null,
   "id": "a44fb088",
   "metadata": {},
   "outputs": [],
   "source": []
  }
 ],
 "metadata": {
  "kernelspec": {
   "display_name": "Python 3 (ipykernel)",
   "language": "python",
   "name": "python3"
  },
  "language_info": {
   "codemirror_mode": {
    "name": "ipython",
    "version": 3
   },
   "file_extension": ".py",
   "mimetype": "text/x-python",
   "name": "python",
   "nbconvert_exporter": "python",
   "pygments_lexer": "ipython3",
   "version": "3.9.13"
  }
 },
 "nbformat": 4,
 "nbformat_minor": 5
}

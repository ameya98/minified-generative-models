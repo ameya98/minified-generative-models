{
 "cells": [
  {
   "cell_type": "code",
   "execution_count": 24,
   "id": "2d5613cd",
   "metadata": {},
   "outputs": [],
   "source": [
    "# ! pip install --upgrade tensorflow"
   ]
  },
  {
   "cell_type": "code",
   "execution_count": null,
   "id": "b0f11710",
   "metadata": {},
   "outputs": [],
   "source": [
    "import tensorflow_probability.substrates.jax as tfp"
   ]
  },
  {
   "cell_type": "code",
   "execution_count": 4,
   "id": "a0526a03-4f93-4bc1-a2f0-e5eb436598d5",
   "metadata": {},
   "outputs": [],
   "source": [
    "import jax.numpy as jnp\n",
    "import jax\n",
    "from jax import random\n",
    "\n",
    "from flax import linen as nn\n",
    "from flax.training import train_state\n",
    "\n",
    "import optax\n",
    "import tensorflow as tf\n",
    "import numpy as np\n",
    "from tqdm.notebook import tqdm\n",
    "import matplotlib.pyplot as plt"
   ]
  },
  {
   "attachments": {},
   "cell_type": "markdown",
   "id": "973663bd",
   "metadata": {},
   "source": [
    "## The Dataset"
   ]
  },
  {
   "cell_type": "code",
   "execution_count": 5,
   "id": "a869aada",
   "metadata": {},
   "outputs": [
    {
     "data": {
      "text/plain": [
       "(-2.0, 2.0)"
      ]
     },
     "execution_count": 5,
     "metadata": {},
     "output_type": "execute_result"
    },
    {
     "data": {
      "image/png": "[encoded data removed]",
      "text/plain": [
       "<Figure size 640x480 with 1 Axes>"
      ]
     },
     "metadata": {},
     "output_type": "display_data"
    }
   ],
   "source": [
    "from sklearn import datasets, preprocessing\n",
    "\n",
    "n_samples = 10_000\n",
    "\n",
    "x, _ = datasets.make_moons(n_samples=n_samples, noise=.06)\n",
    "\n",
    "scaler = preprocessing.StandardScaler()\n",
    "x = scaler.fit_transform(x)\n",
    "\n",
    "plt.hist2d(x[:, 0], x[:, 1], bins=100)\n",
    "plt.xlim(-2 ,2)\n",
    "plt.ylim(-2, 2)"
   ]
  },
  {
   "cell_type": "code",
   "execution_count": 8,
   "id": "597f8ae2-280c-40f1-89e6-bc6ac1904dd6",
   "metadata": {},
   "outputs": [],
   "source": [
    "class MLP(nn.Module):\n",
    "    \"\"\" A simple MLP in Flax. This is the score function.\n",
    "    \"\"\"\n",
    "    hidden_dim: int = 32\n",
    "    out_dim: int = 2\n",
    "    n_layers: int = 2\n",
    "\n",
    "    @nn.compact\n",
    "    def __call__(self, x):\n",
    "        for _ in range(self.n_layers):\n",
    "            x = nn.Dense(features=self.hidden_dim)(x)\n",
    "            x = nn.gelu(x)\n",
    "        x = nn.Dense(features=self.out_dim)(x)\n",
    "        return x"
   ]
  },
  {
   "cell_type": "code",
   "execution_count": 18,
   "id": "c3fc5e34-614b-48db-bfc8-ed3edc4d66b9",
   "metadata": {},
   "outputs": [],
   "source": [
    "class VAE(nn.Module):\n",
    "    \"\"\" A simple variational auto-encoder module.\n",
    "    \"\"\"\n",
    "    num_latents: int = 20\n",
    "    num_out: int = 2\n",
    "\n",
    "    def setup(self):\n",
    "        self.encoder = MLP(out_dim=self.num_latents * 2)\n",
    "        self.decoder = MLP(out_dim=self.num_out)\n",
    "\n",
    "    def __call__(self, x, z_rng):\n",
    "\n",
    "        # Get variational parameters from encoder\n",
    "        enc = self.encoder(x).reshape(x.shape[0], self.num_latents, 2)\n",
    "        mu, logvar = enc[:, :, 0], enc[:, :, 1]\n",
    "\n",
    "        # Sample from variational distrib. of latents\n",
    "        z = tfp.distributions.Normal(loc=mu, scale=jnp.sqrt(jnp.exp(logvar))).sample(seed=z_rng)\n",
    "\n",
    "        # Decode\n",
    "        recon_x = self.decoder(z)\n",
    "\n",
    "        return recon_x, mu, logvar\n",
    "\n",
    "    def generate(self, z):\n",
    "        return self.decoder(z)\n",
    "\n",
    "@jax.vmap\n",
    "def kl_divergence(mu, logvar):\n",
    "    \"\"\" KL-divergence between latent variational distribution and unit Normal prior\n",
    "    \"\"\"\n",
    "    prior_latent = tfp.distributions.Normal(loc=0, scale=1)  # Prior\n",
    "    q_latent = tfp.distributions.Normal(loc=mu, scale=jnp.sqrt(jnp.exp(logvar)))  # Variational latent distrib.\n",
    "    \n",
    "    return tfp.distributions.kl_divergence(q_latent, prior_latent).sum()\n",
    "\n",
    "@jax.vmap\n",
    "def mse_loss(pred, true):\n",
    "    \"\"\" Gaussian MSE\n",
    "    \"\"\"\n",
    "    return jnp.mean((pred - true) ** 2)\n",
    "\n",
    "def compute_metrics(recon_x, x, mu, logvar):\n",
    "    mse_loss_val = mse_loss(recon_x, x).mean()\n",
    "    kld_loss = kl_divergence(mu, logvar).mean()\n",
    "    return {\n",
    "      'recon_loss': mse_loss_val,\n",
    "      'kl_div': kld_loss,\n",
    "      'loss': mse_loss_val + kld_loss\n",
    "    }\n",
    "\n",
    "def model_vae():\n",
    "    return VAE(num_latents=32)"
   ]
  },
  {
   "cell_type": "code",
   "execution_count": 19,
   "id": "ccefdcfa-a38a-4023-a717-f5abf73002aa",
   "metadata": {},
   "outputs": [],
   "source": [
    "@jax.jit\n",
    "def train_step(state, batch, z_rng):\n",
    "    def loss_fn(params):\n",
    "        recon_x, mean, logvar = model_vae().apply({'params': params}, batch, z_rng)\n",
    "\n",
    "        reco_loss = mse_loss(recon_x, batch).mean()\n",
    "        kld_loss = kl_divergence(mean, logvar).mean()\n",
    "        loss = reco_loss + kld_loss\n",
    "        return loss\n",
    "    grads = jax.grad(loss_fn)(state.params)\n",
    "    return state.apply_gradients(grads=grads)"
   ]
  },
  {
   "cell_type": "code",
   "execution_count": 27,
   "id": "ac35f984-2138-4ae5-9045-99fda800e0f4",
   "metadata": {},
   "outputs": [],
   "source": [
    "batch_size = 16\n",
    "num_latents= 32\n",
    "rng = jax.random.PRNGKey(42)\n",
    "learning_rate = 3e-4\n",
    "train_steps = 10000\n",
    "\n",
    "rng, key = random.split(rng)\n",
    "\n",
    "init_data = jnp.ones((batch_size, 2), jnp.float32)\n",
    "\n",
    "state = train_state.TrainState.create(\n",
    "    apply_fn=model_vae().apply,\n",
    "    params=model_vae().init(key, init_data, rng)['params'],\n",
    "    tx=optax.adamw(learning_rate, weight_decay=1e-5),\n",
    ")"
   ]
  },
  {
   "cell_type": "code",
   "execution_count": 86,
   "id": "cc3b4499-a800-4478-8c34-c88502142901",
   "metadata": {},
   "outputs": [],
   "source": [
    "@jax.jit\n",
    "def eval(params, z):\n",
    "    def eval_model(vae):\n",
    "        generate_images = vae.generate(z)\n",
    "        generate_images = generate_images.reshape(-1, 160, 160, 1)\n",
    "        return generate_images\n",
    "\n",
    "    return nn.apply(eval_model, model_vae())({'params': params})"
   ]
  },
  {
   "cell_type": "code",
   "execution_count": 28,
   "id": "11c0b554-2a21-4dd6-886f-3304e7af107c",
   "metadata": {},
   "outputs": [],
   "source": [
    "# rng, z_key, eval_rng = random.split(rng, 3)\n",
    "\n",
    "# for t in tqdm(range(train_steps)):\n",
    "#     idx = jax.random.choice(rng, train_data.shape[0], shape=(batch_size,))\n",
    "#     batch = jnp.array(train_data[idx])\n",
    "#     rng, key = random.split(rng)\n",
    "#     state = train_step(state, batch, key)"
   ]
  },
  {
   "cell_type": "code",
   "execution_count": 191,
   "id": "7c823bb1-3e6b-4a6c-8e70-78759dd774ac",
   "metadata": {},
   "outputs": [],
   "source": [
    "rng = jax.random.PRNGKey(12)\n",
    "rng, z_key, eval_rng = random.split(rng, 3)\n",
    "z = jax.random.normal(z_key, (16, num_latents))"
   ]
  }
 ],
 "metadata": {
  "kernelspec": {
   "display_name": "Python 3 (ipykernel)",
   "language": "python",
   "name": "python3"
  },
  "language_info": {
   "codemirror_mode": {
    "name": "ipython",
    "version": 3
   },
   "file_extension": ".py",
   "mimetype": "text/x-python",
   "name": "python",
   "nbconvert_exporter": "python",
   "pygments_lexer": "ipython3",
   "version": "3.9.13"
  }
 },
 "nbformat": 4,
 "nbformat_minor": 5
}
